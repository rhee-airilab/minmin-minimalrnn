{
 "cells": [
  {
   "cell_type": "code",
   "execution_count": 1,
   "metadata": {
    "ExecuteTime": {
     "end_time": "2017-12-11T15:46:26.138851Z",
     "start_time": "2017-12-11T15:46:25.357366Z"
    },
    "collapsed": true
   },
   "outputs": [],
   "source": [
    "# coding: utf-8\n",
    "from __future__ import print_function, division, absolute_import\n",
    "import sys\n",
    "import time\n",
    "import numpy as np\n",
    "import tensorflow as tf\n",
    "import matplotlib.pyplot as plt"
   ]
  },
  {
   "cell_type": "code",
   "execution_count": 2,
   "metadata": {
    "ExecuteTime": {
     "end_time": "2017-12-11T15:46:26.256699Z",
     "start_time": "2017-12-11T15:46:26.140212Z"
    },
    "collapsed": true
   },
   "outputs": [],
   "source": [
    "!rm -fr logdir"
   ]
  },
  {
   "cell_type": "code",
   "execution_count": 3,
   "metadata": {
    "ExecuteTime": {
     "end_time": "2017-12-11T15:46:26.403810Z",
     "start_time": "2017-12-11T15:46:26.262510Z"
    },
    "collapsed": true
   },
   "outputs": [],
   "source": [
    "!mkdir -p logdir/train logdir/test"
   ]
  },
  {
   "cell_type": "code",
   "execution_count": 4,
   "metadata": {
    "ExecuteTime": {
     "end_time": "2017-12-11T15:46:26.738765Z",
     "start_time": "2017-12-11T15:46:26.410077Z"
    },
    "collapsed": true
   },
   "outputs": [],
   "source": [
    "from tensorflow.examples.tutorials.mnist.input_data \\\n",
    "  import read_data_sets"
   ]
  },
  {
   "cell_type": "code",
   "execution_count": 5,
   "metadata": {
    "ExecuteTime": {
     "end_time": "2017-12-11T15:46:27.053596Z",
     "start_time": "2017-12-11T15:46:26.740069Z"
    }
   },
   "outputs": [
    {
     "name": "stdout",
     "output_type": "stream",
     "text": [
      "Extracting ./mnist/train-images-idx3-ubyte.gz\n",
      "Extracting ./mnist/train-labels-idx1-ubyte.gz\n",
      "Extracting ./mnist/t10k-images-idx3-ubyte.gz\n",
      "Extracting ./mnist/t10k-labels-idx1-ubyte.gz\n"
     ]
    }
   ],
   "source": [
    "mnist = read_data_sets('./mnist', one_hot=False)"
   ]
  },
  {
   "cell_type": "code",
   "execution_count": 6,
   "metadata": {
    "ExecuteTime": {
     "end_time": "2017-12-11T15:46:27.058649Z",
     "start_time": "2017-12-11T15:46:27.055831Z"
    },
    "collapsed": true
   },
   "outputs": [],
   "source": [
    "INPUT_UNITS = 28\n",
    "NUM_HIDDEN_UNITS = 31\n",
    "BATCH_SIZE = 128\n",
    "MAX_SEQ_LEN = 28"
   ]
  },
  {
   "cell_type": "code",
   "execution_count": 7,
   "metadata": {
    "ExecuteTime": {
     "end_time": "2017-12-11T15:46:27.085551Z",
     "start_time": "2017-12-11T15:46:27.060082Z"
    },
    "collapsed": true
   },
   "outputs": [],
   "source": [
    "train_loop_count = mnist.train.num_examples // BATCH_SIZE\n",
    "test_loop_count  = mnist.test.num_examples // BATCH_SIZE"
   ]
  },
  {
   "cell_type": "code",
   "execution_count": 8,
   "metadata": {
    "ExecuteTime": {
     "end_time": "2017-12-11T15:46:27.093642Z",
     "start_time": "2017-12-11T15:46:27.086866Z"
    },
    "collapsed": true
   },
   "outputs": [],
   "source": [
    "from minimalrnn import MinimalRNNCell"
   ]
  },
  {
   "cell_type": "code",
   "execution_count": 9,
   "metadata": {
    "ExecuteTime": {
     "end_time": "2017-12-11T15:46:27.153943Z",
     "start_time": "2017-12-11T15:46:27.094963Z"
    }
   },
   "outputs": [],
   "source": [
    "class MnistRnn:\n",
    "    \"\"\"\n",
    "    \"\"\"\n",
    "    def __init__(self, inputs, labels, use_custom_phi=False):\n",
    "        \"\"\"\n",
    "        \"\"\"\n",
    "        \n",
    "        dropout_rate = 0.5\n",
    "        \n",
    "        training   = tf.Variable(False,name='training',dtype=tf.bool)\n",
    "        keep_prob  = tf.cond(training,lambda: 1.0 - dropout_rate,lambda: 1.0)\n",
    "\n",
    "\n",
    "        def my_phi_initializer(inputs, num_outputs, **kwargs):\n",
    "            print(('my_phi_initializer','inputs.shape',inputs.get_shape().as_list()))\n",
    "            def my_phi(inputs):\n",
    "                input_units = inputs.get_shape().as_list()[-1]\n",
    "                layer   = tf.reshape(inputs, [-1,input_units,1])\n",
    "                layer   = tf.layers.conv1d(layer, num_outputs // 4, 3, 1, \n",
    "                                           activation=tf.nn.elu)\n",
    "                layer   = tf.layers.average_pooling1d(layer, 2, 2)\n",
    "                layer   = tf.layers.conv1d(layer, num_outputs // 2, 3, 1,\n",
    "                                           activation=tf.nn.elu)\n",
    "                layer   = tf.layers.average_pooling1d(layer, 2, 2)\n",
    "                layer   = tf.layers.conv1d(layer, num_outputs, 3, 1, \n",
    "                                           activation=tf.nn.elu)\n",
    "                layer   = tf.layers.average_pooling1d(layer, 2, 2)\n",
    "                layer   = tf.reduce_max(layer, axis=1, keep_dims=True)\n",
    "\n",
    "                layer   = tf.layers.conv1d(layer, num_outputs, 1, 1, \n",
    "                                           activation=tf.nn.elu)\n",
    "                layer   = tf.nn.dropout(layer, keep_prob=keep_prob)\n",
    "                layer   = tf.layers.conv1d(layer, num_outputs, 1, 1,\n",
    "                                           activation=None)\n",
    "\n",
    "                layer   = tf.squeeze(layer)\n",
    "                print(('my_phi','output.shape',layer.get_shape().as_list()))\n",
    "                return layer\n",
    "            return my_phi\n",
    "\n",
    "\n",
    "        cell = MinimalRNNCell(NUM_HIDDEN_UNITS,\n",
    "                              phi_initializer=my_phi_initializer if use_custom_phi else None)\n",
    "        \n",
    "        sequence_length = [MAX_SEQ_LEN] * BATCH_SIZE\n",
    "        \n",
    "        last, states = tf.nn.dynamic_rnn(\n",
    "            cell,\n",
    "            inputs,\n",
    "            sequence_length=sequence_length,\n",
    "            dtype=tf.float32)\n",
    "        rnn_output = last[:,MAX_SEQ_LEN-1,:]\n",
    "        outputs    = tf.layers.dense(rnn_output, 10)\n",
    "        \n",
    "        loss       = tf.losses.sparse_softmax_cross_entropy(\n",
    "            labels,\n",
    "            outputs)\n",
    "\n",
    "        update_ops = tf.get_collection(tf.GraphKeys.UPDATE_OPS)\n",
    "        with tf.control_dependencies(update_ops):\n",
    "            optimize   = tf.train.AdamOptimizer(learning_rate=0.001). \\\n",
    "                minimize(loss)\n",
    "\n",
    "        preds      = tf.argmax(outputs, axis=1)\n",
    "        errors     = tf.count_nonzero(labels - preds)\n",
    "        accuracy   = 1.0 - tf.cast(errors,tf.float32) / \\\n",
    "                        tf.cast(tf.size(preds), tf.float32)\n",
    "        \n",
    "        with tf.control_dependencies([\n",
    "            tf.assign(training, True)\n",
    "        ]):\n",
    "            self.train_mode = tf.constant(1)\n",
    "            \n",
    "        with tf.control_dependencies([\n",
    "            tf.assign(training, False)\n",
    "        ]):\n",
    "            self.test_mode  = tf.constant(1)\n",
    "\n",
    "        self.inputs   = inputs\n",
    "        self.labels   = labels\n",
    "        self.outputs  = outputs\n",
    "        self.loss     = loss\n",
    "        self.optimize = optimize\n",
    "        self.accuracy = accuracy"
   ]
  },
  {
   "cell_type": "code",
   "execution_count": 10,
   "metadata": {
    "ExecuteTime": {
     "end_time": "2017-12-11T15:46:27.177219Z",
     "start_time": "2017-12-11T15:46:27.155114Z"
    },
    "collapsed": true
   },
   "outputs": [],
   "source": [
    "def train(sess, model, max_epochs, train_writer=None, test_writer=None):\n",
    "    \"\"\"\n",
    "    \"\"\"\n",
    "    \n",
    "    step = 0\n",
    "    \n",
    "    for ep in range(max_epochs):\n",
    "        \n",
    "        sess.run(model.train_mode)\n",
    "        \n",
    "        for i in range(train_loop_count):\n",
    "            offs = i * BATCH_SIZE\n",
    "            batch_input = mnist.train.images[offs:offs+BATCH_SIZE,:]. \\\n",
    "                            reshape([BATCH_SIZE, MAX_SEQ_LEN, INPUT_UNITS])\n",
    "            batch_label = mnist.train.labels[offs:offs+BATCH_SIZE]\n",
    "            _, loss, accuracy = sess.run(\n",
    "                [model.optimize, model.loss, model.accuracy],\n",
    "                 feed_dict = {\n",
    "                     model.inputs: batch_input,\n",
    "                     model.labels: batch_label })\n",
    "            step += 1\n",
    "            if train_writer:\n",
    "                summary = tf.Summary(\n",
    "                    value = [\n",
    "                        tf.Summary.Value(tag='accuracy',simple_value=accuracy),\n",
    "                        tf.Summary.Value(tag='loss',simple_value=loss),\n",
    "                    ])\n",
    "                train_writer.add_summary(summary, global_step=step)\n",
    "                train_writer.flush()\n",
    "            if step % 250 == 0:\n",
    "                print('[train] ep {:d}, step {:d}, loss {:.5f}, accu {:.5f}'.format(\n",
    "                    ep + 1, step, loss, accuracy))\n",
    "                \n",
    "        test_accuracies = []\n",
    "        \n",
    "        sess.run(model.test_mode)\n",
    "\n",
    "        for i in range(test_loop_count):\n",
    "            offs = i * BATCH_SIZE\n",
    "            batch_input = mnist.test.images[offs:offs+BATCH_SIZE,:]. \\\n",
    "                            reshape([BATCH_SIZE, MAX_SEQ_LEN, INPUT_UNITS])\n",
    "            batch_label = mnist.test.labels[offs:offs+BATCH_SIZE]\n",
    "            accuracy, = sess.run([model.accuracy],\n",
    "                                 feed_dict = {\n",
    "                                     model.inputs: batch_input,\n",
    "                                     model.labels: batch_label})\n",
    "            test_accuracies.append(accuracy)\n",
    "            if test_writer:\n",
    "                summary = tf.Summary(\n",
    "                    value = [\n",
    "                        tf.Summary.Value(tag='accuracy',simple_value=accuracy),\n",
    "                    ])\n",
    "                test_writer.add_summary(summary, global_step=step)\n",
    "                test_writer.flush()\n",
    "            if i % 250 == 0:\n",
    "                print(' [test] ep {:d}, step {:d}, accu {:.5f}'.format(\n",
    "                    ep + 1, step, np.mean(test_accuracies)))\n"
   ]
  },
  {
   "cell_type": "code",
   "execution_count": 11,
   "metadata": {
    "ExecuteTime": {
     "end_time": "2017-12-11T15:46:27.716885Z",
     "start_time": "2017-12-11T15:46:27.178342Z"
    },
    "collapsed": true
   },
   "outputs": [],
   "source": [
    "tf.reset_default_graph()\n",
    "\n",
    "inputs_ = tf.placeholder(tf.float32,\n",
    "                         [BATCH_SIZE, MAX_SEQ_LEN, INPUT_UNITS],\n",
    "                         name='inputs')\n",
    "labels_ = tf.placeholder(tf.int64,\n",
    "                         [BATCH_SIZE],\n",
    "                         name='labels')\n",
    "\n",
    "model   = MnistRnn(inputs_, labels_)"
   ]
  },
  {
   "cell_type": "code",
   "execution_count": 12,
   "metadata": {
    "ExecuteTime": {
     "end_time": "2017-12-11T15:46:27.725525Z",
     "start_time": "2017-12-11T15:46:27.718105Z"
    },
    "collapsed": true
   },
   "outputs": [],
   "source": [
    "config = tf.ConfigProto(gpu_options={'allow_growth':True})\n",
    "sess   = tf.InteractiveSession(config=config)"
   ]
  },
  {
   "cell_type": "code",
   "execution_count": 13,
   "metadata": {
    "ExecuteTime": {
     "end_time": "2017-12-11T15:46:29.007198Z",
     "start_time": "2017-12-11T15:46:27.726850Z"
    },
    "collapsed": true
   },
   "outputs": [],
   "source": [
    "train_writer = tf.summary.FileWriter('logdir/train-rnn', \n",
    "                                     graph=tf.get_default_graph())\n",
    "test_writer  = tf.summary.FileWriter('logdir/test-rnn',\n",
    "                                     graph=tf.get_default_graph())"
   ]
  },
  {
   "cell_type": "code",
   "execution_count": 14,
   "metadata": {
    "ExecuteTime": {
     "end_time": "2017-12-11T15:47:18.915846Z",
     "start_time": "2017-12-11T15:46:29.008457Z"
    }
   },
   "outputs": [
    {
     "name": "stdout",
     "output_type": "stream",
     "text": [
      "[train] ep 1, step 250, loss 1.57092, accu 0.52344\n",
      " [test] ep 1, step 429, accu 0.71094\n",
      "[train] ep 2, step 500, loss 1.03613, accu 0.70312\n",
      "[train] ep 2, step 750, loss 0.71140, accu 0.76562\n",
      " [test] ep 2, step 858, accu 0.85938\n",
      "[train] ep 3, step 1000, loss 0.51308, accu 0.85156\n",
      "[train] ep 3, step 1250, loss 0.28956, accu 0.93750\n",
      " [test] ep 3, step 1287, accu 0.87500\n",
      "[train] ep 4, step 1500, loss 0.33424, accu 0.91406\n",
      " [test] ep 4, step 1716, accu 0.89844\n",
      "[train] ep 5, step 1750, loss 0.28598, accu 0.89844\n",
      "[train] ep 5, step 2000, loss 0.42561, accu 0.87500\n",
      " [test] ep 5, step 2145, accu 0.92188\n",
      "[train] ep 6, step 2250, loss 0.30456, accu 0.93750\n",
      "[train] ep 6, step 2500, loss 0.48928, accu 0.82031\n",
      " [test] ep 6, step 2574, accu 0.94531\n",
      "[train] ep 7, step 2750, loss 0.26681, accu 0.93750\n",
      "[train] ep 7, step 3000, loss 0.23323, accu 0.95312\n",
      " [test] ep 7, step 3003, accu 0.96094\n",
      "[train] ep 8, step 3250, loss 0.20294, accu 0.92188\n",
      " [test] ep 8, step 3432, accu 0.96094\n",
      "[train] ep 9, step 3500, loss 0.17401, accu 0.94531\n",
      "[train] ep 9, step 3750, loss 0.17815, accu 0.94531\n",
      " [test] ep 9, step 3861, accu 0.96094\n",
      "[train] ep 10, step 4000, loss 0.17939, accu 0.92969\n",
      "[train] ep 10, step 4250, loss 0.12783, accu 0.96094\n",
      " [test] ep 10, step 4290, accu 0.96094\n"
     ]
    }
   ],
   "source": [
    "sess.run(tf.global_variables_initializer())\n",
    "train(sess, model, 10, train_writer, test_writer)"
   ]
  },
  {
   "cell_type": "code",
   "execution_count": 15,
   "metadata": {
    "ExecuteTime": {
     "end_time": "2017-12-11T15:47:19.867568Z",
     "start_time": "2017-12-11T15:47:18.916924Z"
    }
   },
   "outputs": [
    {
     "name": "stdout",
     "output_type": "stream",
     "text": [
      "('my_phi_initializer', 'inputs.shape', [128, 28])\n",
      "('my_phi', 'output.shape', [128, 31])\n"
     ]
    }
   ],
   "source": [
    "tf.reset_default_graph()\n",
    "\n",
    "inputs_ = tf.placeholder(tf.float32,\n",
    "                         [BATCH_SIZE, MAX_SEQ_LEN, INPUT_UNITS],\n",
    "                         name='inputs')\n",
    "labels_ = tf.placeholder(tf.int64,\n",
    "                         [BATCH_SIZE],\n",
    "                         name='labels')\n",
    "\n",
    "model   = MnistRnn(inputs_, labels_, use_custom_phi = True)"
   ]
  },
  {
   "cell_type": "code",
   "execution_count": 16,
   "metadata": {
    "ExecuteTime": {
     "end_time": "2017-12-11T15:47:19.872836Z",
     "start_time": "2017-12-11T15:47:19.870272Z"
    },
    "collapsed": true
   },
   "outputs": [],
   "source": [
    "config = tf.ConfigProto(gpu_options={'allow_growth':True})\n",
    "sess   = tf.InteractiveSession(config=config)"
   ]
  },
  {
   "cell_type": "code",
   "execution_count": 17,
   "metadata": {
    "ExecuteTime": {
     "end_time": "2017-12-11T15:47:22.488749Z",
     "start_time": "2017-12-11T15:47:19.873922Z"
    },
    "collapsed": true
   },
   "outputs": [],
   "source": [
    "train_writer = tf.summary.FileWriter('logdir/train-c-rnn', \n",
    "                                     graph=tf.get_default_graph())\n",
    "test_writer  = tf.summary.FileWriter('logdir/test-c-rnn',\n",
    "                                     graph=tf.get_default_graph())"
   ]
  },
  {
   "cell_type": "code",
   "execution_count": 18,
   "metadata": {
    "ExecuteTime": {
     "end_time": "2017-12-11T15:49:47.006421Z",
     "start_time": "2017-12-11T15:47:22.489833Z"
    }
   },
   "outputs": [
    {
     "name": "stdout",
     "output_type": "stream",
     "text": [
      "[train] ep 1, step 250, loss 1.30821, accu 0.52344\n",
      " [test] ep 1, step 429, accu 0.67969\n",
      "[train] ep 2, step 500, loss 0.93973, accu 0.62500\n",
      "[train] ep 2, step 750, loss 0.65945, accu 0.75781\n",
      " [test] ep 2, step 858, accu 0.78906\n",
      "[train] ep 3, step 1000, loss 0.62646, accu 0.79688\n",
      "[train] ep 3, step 1250, loss 0.41628, accu 0.87500\n",
      " [test] ep 3, step 1287, accu 0.87500\n",
      "[train] ep 4, step 1500, loss 0.48059, accu 0.84375\n",
      " [test] ep 4, step 1716, accu 0.91406\n",
      "[train] ep 5, step 1750, loss 0.35298, accu 0.87500\n",
      "[train] ep 5, step 2000, loss 0.60718, accu 0.82812\n",
      " [test] ep 5, step 2145, accu 0.92969\n",
      "[train] ep 6, step 2250, loss 0.34710, accu 0.90625\n",
      "[train] ep 6, step 2500, loss 0.48610, accu 0.82812\n",
      " [test] ep 6, step 2574, accu 0.92969\n",
      "[train] ep 7, step 2750, loss 0.29251, accu 0.89844\n",
      "[train] ep 7, step 3000, loss 0.28745, accu 0.90625\n",
      " [test] ep 7, step 3003, accu 0.93750\n",
      "[train] ep 8, step 3250, loss 0.32901, accu 0.85938\n",
      " [test] ep 8, step 3432, accu 0.93750\n",
      "[train] ep 9, step 3500, loss 0.31629, accu 0.87500\n",
      "[train] ep 9, step 3750, loss 0.30809, accu 0.91406\n",
      " [test] ep 9, step 3861, accu 0.94531\n",
      "[train] ep 10, step 4000, loss 0.27972, accu 0.92969\n",
      "[train] ep 10, step 4250, loss 0.19963, accu 0.90625\n",
      " [test] ep 10, step 4290, accu 0.95312\n"
     ]
    }
   ],
   "source": [
    "sess.run(tf.global_variables_initializer())\n",
    "train(sess, model, 10, train_writer, test_writer)"
   ]
  },
  {
   "cell_type": "code",
   "execution_count": 19,
   "metadata": {
    "ExecuteTime": {
     "end_time": "2017-12-11T15:49:48.022783Z",
     "start_time": "2017-12-11T15:49:47.007661Z"
    },
    "scrolled": true
   },
   "outputs": [
    {
     "name": "stdout",
     "output_type": "stream",
     "text": [
      "\u001b[31mE1212 00:49:47.822920 MainThread program.py:255] TensorBoard attempted to bind to port 6006, but it was already in use\r\n",
      "\u001b[0mTensorBoard attempted to bind to port 6006, but it was already in use\r\n"
     ]
    }
   ],
   "source": [
    "!tensorboard --logdir logdir"
   ]
  }
 ],
 "metadata": {
  "kernelspec": {
   "display_name": "Python 2",
   "language": "python",
   "name": "python2"
  },
  "language_info": {
   "codemirror_mode": {
    "name": "ipython",
    "version": 2
   },
   "file_extension": ".py",
   "mimetype": "text/x-python",
   "name": "python",
   "nbconvert_exporter": "python",
   "pygments_lexer": "ipython2",
   "version": "2.7.13"
  }
 },
 "nbformat": 4,
 "nbformat_minor": 2
}
