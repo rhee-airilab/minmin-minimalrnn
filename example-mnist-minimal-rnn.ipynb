{
 "cells": [
  {
   "cell_type": "code",
   "execution_count": 1,
   "metadata": {
    "ExecuteTime": {
     "end_time": "2017-12-12T13:24:05.253664Z",
     "start_time": "2017-12-12T13:24:04.493518Z"
    },
    "collapsed": true
   },
   "outputs": [],
   "source": [
    "# coding: utf-8\n",
    "from __future__ import print_function, division, absolute_import\n",
    "import sys\n",
    "import time\n",
    "import numpy as np\n",
    "import tensorflow as tf"
   ]
  },
  {
   "cell_type": "code",
   "execution_count": 2,
   "metadata": {
    "ExecuteTime": {
     "end_time": "2017-12-12T13:24:05.372975Z",
     "start_time": "2017-12-12T13:24:05.255061Z"
    },
    "collapsed": true
   },
   "outputs": [],
   "source": [
    "!rm -fr logdir\n",
    "!mkdir -p logdir"
   ]
  },
  {
   "cell_type": "code",
   "execution_count": 3,
   "metadata": {
    "ExecuteTime": {
     "end_time": "2017-12-12T13:24:05.811621Z",
     "start_time": "2017-12-12T13:24:05.506894Z"
    }
   },
   "outputs": [
    {
     "name": "stdout",
     "output_type": "stream",
     "text": [
      "Extracting ./mnist/train-images-idx3-ubyte.gz\n",
      "Extracting ./mnist/train-labels-idx1-ubyte.gz\n",
      "Extracting ./mnist/t10k-images-idx3-ubyte.gz\n",
      "Extracting ./mnist/t10k-labels-idx1-ubyte.gz\n"
     ]
    }
   ],
   "source": [
    "from tensorflow.examples.tutorials.mnist.input_data \\\n",
    "  import read_data_sets\n",
    "\n",
    "mnist = read_data_sets('./mnist', one_hot=False)"
   ]
  },
  {
   "cell_type": "code",
   "execution_count": 4,
   "metadata": {
    "ExecuteTime": {
     "end_time": "2017-12-12T13:24:06.131307Z",
     "start_time": "2017-12-12T13:24:06.128673Z"
    },
    "collapsed": true
   },
   "outputs": [],
   "source": [
    "INPUT_UNITS = 28\n",
    "NUM_HIDDEN_UNITS = 31\n",
    "BATCH_SIZE = 128\n",
    "MAX_SEQ_LEN = 28"
   ]
  },
  {
   "cell_type": "code",
   "execution_count": 5,
   "metadata": {
    "ExecuteTime": {
     "end_time": "2017-12-12T13:24:06.139750Z",
     "start_time": "2017-12-12T13:24:06.132935Z"
    },
    "collapsed": true
   },
   "outputs": [],
   "source": [
    "train_loop_count = mnist.train.num_examples // BATCH_SIZE\n",
    "test_loop_count  = mnist.test.num_examples // BATCH_SIZE"
   ]
  },
  {
   "cell_type": "code",
   "execution_count": 6,
   "metadata": {
    "ExecuteTime": {
     "end_time": "2017-12-12T13:24:06.148736Z",
     "start_time": "2017-12-12T13:24:06.141258Z"
    },
    "collapsed": true
   },
   "outputs": [],
   "source": [
    "from minimalrnn import MinimalRNNCell\n",
    "\n",
    "class MnistRnn:\n",
    "    \"\"\"\n",
    "    \"\"\"\n",
    "    def __init__(self, inputs, labels, use_custom_phi=False):\n",
    "        \"\"\"\n",
    "        \"\"\"\n",
    "\n",
    "        global_step = tf.Variable(1,name='global_step',dtype=tf.int64)\n",
    "        training    = tf.Variable(False,name='training',dtype=tf.bool)\n",
    "        dropout_rate = tf.Variable(0.0,name='dropout_rate',dtype=tf.float32)\n",
    "\n",
    "        keep_prob   = tf.cond(training,lambda: 1.0 - dropout_rate,lambda: 1.0)\n",
    "\n",
    "        step_update = tf.placeholder(tf.int64,None,name='step_update')\n",
    "        dropout_update = tf.placeholder(tf.float32,None,name='dropout_update')\n",
    "\n",
    "        def my_phi_initializer(inputs, num_outputs, **kwargs):\n",
    "            \n",
    "            print(('my_phi_initializer','inputs.shape',inputs.get_shape().as_list()))\n",
    "            \n",
    "            def my_phi(inputs):\n",
    "                \n",
    "                input_units = inputs.get_shape().as_list()[-1]\n",
    "                layer   = tf.reshape(inputs, [-1,input_units,1])\n",
    "\n",
    "                layer   = tf.layers.dropout(layer, rate=1.0-keep_prob, training=training)\n",
    "                layer   = tf.layers.conv1d(layer, num_outputs // 4, 3, 1) \n",
    "#                 layer   = tf.layers.batch_normalization(layer, training=training)\n",
    "                layer   = tf.nn.relu(layer)\n",
    "\n",
    "                layer   = tf.layers.dropout(layer, rate=1.0-keep_prob, training=training)\n",
    "                layer   = tf.layers.conv1d(layer, num_outputs // 2, 3, 1)\n",
    "#                 layer   = tf.layers.batch_normalization(layer, training=training)\n",
    "                layer   = tf.nn.relu(layer)\n",
    "\n",
    "                layer   = tf.layers.max_pooling1d(layer, 2, 2)\n",
    "\n",
    "                layer   = tf.layers.dropout(layer, rate=1.0-keep_prob, training=training)\n",
    "                layer   = tf.layers.conv1d(layer, num_outputs, 3, 1)\n",
    "#                 layer   = tf.layers.batch_normalization(layer, training=training)\n",
    "                layer   = tf.nn.relu(layer)\n",
    "\n",
    "                layer   = tf.layers.max_pooling1d(layer, 2, 2)\n",
    "\n",
    "                layer   = tf.reduce_max(layer, axis=1, keep_dims=True)\n",
    "\n",
    "                layer   = tf.layers.dropout(layer, rate=1.0-keep_prob, training=training)\n",
    "                layer   = tf.layers.conv1d(layer, num_outputs, 1, 1)\n",
    "#                 layer   = tf.layers.batch_normalization(layer, training=training)\n",
    "                layer   = tf.nn.relu(layer)\n",
    "\n",
    "                layer   = tf.layers.dropout(layer, rate=1.0-keep_prob, training=training)\n",
    "                layer   = tf.layers.conv1d(layer, num_outputs, 1, 1)\n",
    "#                 layer   = tf.layers.batch_normalization(layer, training=training)\n",
    "\n",
    "                layer   = tf.squeeze(layer)\n",
    "                \n",
    "                print(('my_phi','output.shape',layer.get_shape().as_list()))\n",
    "                \n",
    "                return layer\n",
    "            \n",
    "            \n",
    "            return my_phi\n",
    "\n",
    "\n",
    "        cell = MinimalRNNCell(NUM_HIDDEN_UNITS,\n",
    "                              phi_initializer=my_phi_initializer if use_custom_phi else None)\n",
    "\n",
    "        cell = tf.nn.rnn_cell.DropoutWrapper(\n",
    "            cell,\n",
    "            state_keep_prob=keep_prob,\n",
    "            variational_recurrent=True,\n",
    "            dtype=tf.float32\n",
    "        )\n",
    "        \n",
    "        sequence_length = [MAX_SEQ_LEN] * BATCH_SIZE\n",
    "        \n",
    "        last, states = tf.nn.dynamic_rnn(\n",
    "            cell,\n",
    "            inputs,\n",
    "            sequence_length=sequence_length,\n",
    "            dtype=tf.float32)\n",
    "        rnn_output = last[:,MAX_SEQ_LEN-1,:]\n",
    "        outputs    = tf.layers.dense(rnn_output, 10)\n",
    "        \n",
    "        loss       = tf.losses.sparse_softmax_cross_entropy(\n",
    "            labels,\n",
    "            outputs)\n",
    "\n",
    "        update_ops = tf.get_collection(tf.GraphKeys.UPDATE_OPS)\n",
    "        with tf.control_dependencies(update_ops):\n",
    "            optimize   = tf.train.AdamOptimizer(learning_rate=0.001). \\\n",
    "                minimize(loss)\n",
    "\n",
    "        preds      = tf.argmax(outputs, axis=1)\n",
    "        errors     = tf.count_nonzero(labels - preds)\n",
    "        accuracy   = 1.0 - tf.cast(errors,tf.float32) / \\\n",
    "                        tf.cast(tf.size(preds), tf.float32)\n",
    "        \n",
    "        with tf.control_dependencies([\n",
    "            tf.assign(training, True),\n",
    "            tf.assign(global_step, step_update),\n",
    "            tf.assign(dropout_rate, dropout_update)\n",
    "        ]):\n",
    "            self.train_mode = tf.constant(1)\n",
    "            \n",
    "        with tf.control_dependencies([\n",
    "            tf.assign(training, False)\n",
    "        ]):\n",
    "            self.test_mode  = tf.constant(1)\n",
    "\n",
    "        self.step_update = step_update\n",
    "        self.dropout_update = dropout_update\n",
    "        self.inputs   = inputs\n",
    "        self.labels   = labels\n",
    "        self.outputs  = outputs\n",
    "        self.loss     = loss\n",
    "        self.optimize = optimize\n",
    "        self.accuracy = accuracy"
   ]
  },
  {
   "cell_type": "code",
   "execution_count": 7,
   "metadata": {
    "ExecuteTime": {
     "end_time": "2017-12-12T13:24:06.261738Z",
     "start_time": "2017-12-12T13:24:06.236746Z"
    },
    "collapsed": true
   },
   "outputs": [],
   "source": [
    "def train(sess, model, max_epochs, train_writer=None, test_writer=None, dropout_rate=0.0):\n",
    "    \"\"\"\n",
    "    \"\"\"\n",
    "    \n",
    "    step = sess.run(tf.train.get_global_step())\n",
    "\n",
    "    for ep in range(max_epochs):\n",
    "\n",
    "        for i in range(train_loop_count):\n",
    "\n",
    "            sess.run(model.train_mode, {\n",
    "                model.step_update: step,\n",
    "                model.dropout_update: dropout_rate})\n",
    "\n",
    "            offs = i * BATCH_SIZE\n",
    "            batch_input = mnist.train.images[offs:offs+BATCH_SIZE,:]. \\\n",
    "                            reshape([BATCH_SIZE, MAX_SEQ_LEN, INPUT_UNITS])\n",
    "            batch_label = mnist.train.labels[offs:offs+BATCH_SIZE]\n",
    "            t_start     = time.time()\n",
    "            _, loss, accuracy = sess.run(\n",
    "                [model.optimize, model.loss, model.accuracy],\n",
    "                 feed_dict = {\n",
    "                     model.inputs: batch_input,\n",
    "                     model.labels: batch_label })\n",
    "            t_elapsed     = time.time() - t_start\n",
    "            step += 1\n",
    "            \n",
    "            if train_writer:\n",
    "                summary = tf.Summary(\n",
    "                    value = [\n",
    "                        tf.Summary.Value(tag='accuracy',simple_value=accuracy),\n",
    "                        tf.Summary.Value(tag='loss',simple_value=loss),\n",
    "                        tf.Summary.Value(tag='elapsed',simple_value=t_elapsed),\n",
    "                    ])\n",
    "                train_writer.add_summary(summary, global_step=step)\n",
    "                train_writer.flush()\n",
    "                \n",
    "            if step % 251 == 0:\n",
    "                print('[train] ep {:d}, step {:d}, accu {:.5f}, loss {:.5f} [elapsed {:.5f}]'.format(\n",
    "                    ep + 1, step, accuracy, loss, t_elapsed))\n",
    "                \n",
    "        test_accuracies = []\n",
    "        \n",
    "        sess.run(model.test_mode)\n",
    "\n",
    "        for i in range(test_loop_count):\n",
    "            offs = i * BATCH_SIZE\n",
    "            batch_input = mnist.test.images[offs:offs+BATCH_SIZE,:]. \\\n",
    "                            reshape([BATCH_SIZE, MAX_SEQ_LEN, INPUT_UNITS])\n",
    "            batch_label = mnist.test.labels[offs:offs+BATCH_SIZE]\n",
    "            t_start   = time.time()\n",
    "            accuracy, = sess.run([model.accuracy],\n",
    "                                 feed_dict = {\n",
    "                                     model.inputs: batch_input,\n",
    "                                     model.labels: batch_label})\n",
    "            t_elapsed = time.time() - t_start\n",
    "            test_accuracies.append(accuracy)\n",
    "            \n",
    "            if test_writer:\n",
    "                summary = tf.Summary(\n",
    "                    value = [\n",
    "                        tf.Summary.Value(tag='accuracy',simple_value=accuracy),\n",
    "                        tf.Summary.Value(tag='elapsed',simple_value=t_elapsed),\n",
    "                    ])\n",
    "                test_writer.add_summary(summary, global_step=step)\n",
    "                test_writer.flush()\n",
    "                \n",
    "            if i % 503 == 0:\n",
    "                print(' [test] ep {:d}, step {:d}, accu {:.5f} [elapsed {:.5f}]'.format(\n",
    "                    ep + 1, step, np.mean(test_accuracies), t_elapsed))\n"
   ]
  },
  {
   "cell_type": "code",
   "execution_count": 8,
   "metadata": {
    "ExecuteTime": {
     "end_time": "2017-12-12T13:24:06.817908Z",
     "start_time": "2017-12-12T13:24:06.264586Z"
    },
    "collapsed": true,
    "scrolled": false
   },
   "outputs": [],
   "source": [
    "tf.reset_default_graph()\n",
    "inputs_ = tf.placeholder(tf.float32,\n",
    "                         [BATCH_SIZE, MAX_SEQ_LEN, INPUT_UNITS],\n",
    "                         name='inputs')\n",
    "labels_ = tf.placeholder(tf.int64,\n",
    "                         [BATCH_SIZE],\n",
    "                         name='labels')\n",
    "model   = MnistRnn(inputs_, labels_)"
   ]
  },
  {
   "cell_type": "code",
   "execution_count": 9,
   "metadata": {
    "collapsed": true
   },
   "outputs": [],
   "source": [
    "config = tf.ConfigProto(gpu_options={'allow_growth':True})\n",
    "sess   = tf.Session(config=config)\n",
    "sess.run(tf.global_variables_initializer())\n",
    "train_writer = tf.summary.FileWriter('logdir/train1')\n",
    "test_writer  = tf.summary.FileWriter('logdir/test1')"
   ]
  },
  {
   "cell_type": "code",
   "execution_count": 10,
   "metadata": {
    "ExecuteTime": {
     "end_time": "2017-12-12T13:25:00.230356Z",
     "start_time": "2017-12-12T13:24:08.105917Z"
    }
   },
   "outputs": [
    {
     "name": "stdout",
     "output_type": "stream",
     "text": [
      "[train] ep 1, step 251, accu 0.52344, loss 1.54951 [elapsed 0.01618]\n",
      " [test] ep 1, step 430, accu 0.67188 [elapsed 0.01246]\n",
      "[train] ep 2, step 502, accu 0.67188, loss 1.08780 [elapsed 0.01331]\n",
      "[train] ep 2, step 753, accu 0.79688, loss 0.68375 [elapsed 0.01404]\n",
      " [test] ep 2, step 859, accu 0.86719 [elapsed 0.00660]\n",
      "[train] ep 3, step 1004, accu 0.82031, loss 0.55651 [elapsed 0.01374]\n",
      "[train] ep 3, step 1255, accu 0.90625, loss 0.35159 [elapsed 0.01389]\n",
      " [test] ep 3, step 1288, accu 0.90625 [elapsed 0.00619]\n",
      "[train] ep 4, step 1506, accu 0.88281, loss 0.37363 [elapsed 0.01508]\n",
      " [test] ep 4, step 1717, accu 0.94531 [elapsed 0.00596]\n",
      "[train] ep 5, step 1757, accu 0.92969, loss 0.28628 [elapsed 0.01389]\n",
      "[train] ep 5, step 2008, accu 0.89062, loss 0.32012 [elapsed 0.01368]\n",
      " [test] ep 5, step 2146, accu 0.96094 [elapsed 0.00665]\n",
      "[train] ep 6, step 2259, accu 0.92188, loss 0.24059 [elapsed 0.01342]\n",
      "[train] ep 6, step 2510, accu 0.95312, loss 0.15077 [elapsed 0.02121]\n",
      " [test] ep 6, step 2575, accu 0.96094 [elapsed 0.00653]\n",
      "[train] ep 7, step 2761, accu 0.95312, loss 0.17327 [elapsed 0.01359]\n",
      " [test] ep 7, step 3004, accu 0.96875 [elapsed 0.00626]\n",
      "[train] ep 8, step 3012, accu 0.94531, loss 0.16497 [elapsed 0.01343]\n",
      "[train] ep 8, step 3263, accu 0.95312, loss 0.14195 [elapsed 0.01467]\n",
      " [test] ep 8, step 3433, accu 0.96875 [elapsed 0.00747]\n",
      "[train] ep 9, step 3514, accu 0.92188, loss 0.19036 [elapsed 0.01506]\n",
      "[train] ep 9, step 3765, accu 0.94531, loss 0.18405 [elapsed 0.01324]\n",
      " [test] ep 9, step 3862, accu 0.96875 [elapsed 0.00625]\n",
      "[train] ep 10, step 4016, accu 0.91406, loss 0.24628 [elapsed 0.01483]\n",
      "[train] ep 10, step 4267, accu 0.94531, loss 0.13921 [elapsed 0.01422]\n",
      " [test] ep 10, step 4291, accu 0.96875 [elapsed 0.00660]\n"
     ]
    }
   ],
   "source": [
    "train(sess, model, 10, train_writer, test_writer)"
   ]
  },
  {
   "cell_type": "code",
   "execution_count": 11,
   "metadata": {
    "ExecuteTime": {
     "end_time": "2017-12-12T13:25:02.018412Z",
     "start_time": "2017-12-12T13:25:00.231543Z"
    }
   },
   "outputs": [
    {
     "name": "stdout",
     "output_type": "stream",
     "text": [
      "('my_phi_initializer', 'inputs.shape', [128, 28])\n",
      "('my_phi', 'output.shape', [128, 31])\n"
     ]
    }
   ],
   "source": [
    "tf.reset_default_graph()\n",
    "inputs2_ = tf.placeholder(tf.float32,\n",
    "                         [BATCH_SIZE, MAX_SEQ_LEN, INPUT_UNITS],\n",
    "                         name='inputs')\n",
    "labels2_ = tf.placeholder(tf.int64,\n",
    "                         [BATCH_SIZE],\n",
    "                         name='labels')\n",
    "model2   = MnistRnn(inputs2_, labels2_, use_custom_phi = True)"
   ]
  },
  {
   "cell_type": "code",
   "execution_count": 12,
   "metadata": {
    "ExecuteTime": {
     "end_time": "2017-12-12T13:25:02.021870Z",
     "start_time": "2017-12-12T13:25:02.019479Z"
    },
    "collapsed": true
   },
   "outputs": [],
   "source": [
    "config = tf.ConfigProto(gpu_options={'allow_growth':True})\n",
    "sess   = tf.Session(config=config)\n",
    "sess.run(tf.global_variables_initializer())\n",
    "train_writer2 = tf.summary.FileWriter('logdir/train2')\n",
    "test_writer2  = tf.summary.FileWriter('logdir/test2')"
   ]
  },
  {
   "cell_type": "code",
   "execution_count": 13,
   "metadata": {
    "ExecuteTime": {
     "end_time": "2017-12-12T13:34:28.384362Z",
     "start_time": "2017-12-12T13:25:06.373902Z"
    }
   },
   "outputs": [
    {
     "name": "stdout",
     "output_type": "stream",
     "text": [
      "[train] ep 1, step 251, accu 0.45312, loss 1.39273 [elapsed 0.08365]\n",
      " [test] ep 1, step 430, accu 0.58594 [elapsed 0.02963]\n",
      "[train] ep 2, step 502, accu 0.61719, loss 1.05632 [elapsed 0.07524]\n",
      "[train] ep 2, step 753, accu 0.68750, loss 0.98259 [elapsed 0.07238]\n",
      " [test] ep 2, step 859, accu 0.71094 [elapsed 0.01355]\n",
      "[train] ep 3, step 1004, accu 0.74219, loss 0.74703 [elapsed 0.07163]\n",
      "[train] ep 3, step 1255, accu 0.86719, loss 0.55851 [elapsed 0.07279]\n",
      " [test] ep 3, step 1288, accu 0.79688 [elapsed 0.01675]\n",
      "[train] ep 4, step 1506, accu 0.72656, loss 0.66578 [elapsed 0.07258]\n",
      " [test] ep 4, step 1717, accu 0.84375 [elapsed 0.01511]\n",
      "[train] ep 5, step 1757, accu 0.83594, loss 0.50263 [elapsed 0.07486]\n",
      "[train] ep 5, step 2008, accu 0.85938, loss 0.44661 [elapsed 0.08205]\n",
      " [test] ep 5, step 2146, accu 0.89844 [elapsed 0.01887]\n",
      "[train] ep 6, step 2259, accu 0.89062, loss 0.36692 [elapsed 0.08542]\n",
      "[train] ep 6, step 2510, accu 0.90625, loss 0.30799 [elapsed 0.07954]\n",
      " [test] ep 6, step 2575, accu 0.90625 [elapsed 0.01674]\n",
      "[train] ep 7, step 2761, accu 0.87500, loss 0.36824 [elapsed 0.07095]\n",
      " [test] ep 7, step 3004, accu 0.90625 [elapsed 0.01633]\n",
      "[train] ep 8, step 3012, accu 0.92188, loss 0.36961 [elapsed 0.07120]\n",
      "[train] ep 8, step 3263, accu 0.92188, loss 0.23675 [elapsed 0.07135]\n",
      " [test] ep 8, step 3433, accu 0.90625 [elapsed 0.01587]\n",
      "[train] ep 9, step 3514, accu 0.90625, loss 0.28993 [elapsed 0.07229]\n",
      "[train] ep 9, step 3765, accu 0.87500, loss 0.36001 [elapsed 0.06934]\n",
      " [test] ep 9, step 3862, accu 0.94531 [elapsed 0.01702]\n",
      "[train] ep 10, step 4016, accu 0.88281, loss 0.42285 [elapsed 0.07220]\n",
      "[train] ep 10, step 4267, accu 0.93750, loss 0.19038 [elapsed 0.07295]\n",
      " [test] ep 10, step 4291, accu 0.94531 [elapsed 0.01552]\n",
      "[train] ep 11, step 4518, accu 0.94531, loss 0.22722 [elapsed 0.07099]\n",
      " [test] ep 11, step 4720, accu 0.96875 [elapsed 0.01373]\n",
      "[train] ep 12, step 4769, accu 0.89062, loss 0.26593 [elapsed 0.07133]\n",
      "[train] ep 12, step 5020, accu 0.98438, loss 0.06049 [elapsed 0.07343]\n",
      " [test] ep 12, step 5149, accu 0.96875 [elapsed 0.01656]\n",
      "[train] ep 13, step 5271, accu 0.95312, loss 0.13886 [elapsed 0.07224]\n",
      "[train] ep 13, step 5522, accu 0.89844, loss 0.27435 [elapsed 0.07111]\n",
      " [test] ep 13, step 5578, accu 0.96875 [elapsed 0.01648]\n",
      "[train] ep 14, step 5773, accu 0.88281, loss 0.35561 [elapsed 0.07013]\n",
      " [test] ep 14, step 6007, accu 0.97656 [elapsed 0.01700]\n",
      "[train] ep 15, step 6024, accu 0.95312, loss 0.20859 [elapsed 0.07029]\n",
      "[train] ep 15, step 6275, accu 0.91406, loss 0.26289 [elapsed 0.07102]\n",
      " [test] ep 15, step 6436, accu 0.97656 [elapsed 0.01608]\n",
      "[train] ep 16, step 6526, accu 0.95312, loss 0.17817 [elapsed 0.06955]\n",
      "[train] ep 16, step 6777, accu 0.91406, loss 0.20913 [elapsed 0.08212]\n",
      " [test] ep 16, step 6865, accu 0.96875 [elapsed 0.01412]\n",
      "[train] ep 17, step 7028, accu 0.93750, loss 0.18892 [elapsed 0.06888]\n",
      "[train] ep 17, step 7279, accu 0.96875, loss 0.08391 [elapsed 0.06623]\n",
      " [test] ep 17, step 7294, accu 0.96094 [elapsed 0.01485]\n",
      "[train] ep 18, step 7530, accu 0.96094, loss 0.10803 [elapsed 0.06812]\n",
      " [test] ep 18, step 7723, accu 0.96094 [elapsed 0.01452]\n",
      "[train] ep 19, step 7781, accu 0.93750, loss 0.20673 [elapsed 0.07412]\n",
      "[train] ep 19, step 8032, accu 0.99219, loss 0.08444 [elapsed 0.07817]\n",
      " [test] ep 19, step 8152, accu 0.96094 [elapsed 0.01406]\n",
      "[train] ep 20, step 8283, accu 0.96875, loss 0.09906 [elapsed 0.06997]\n",
      "[train] ep 20, step 8534, accu 0.92188, loss 0.23360 [elapsed 0.08538]\n",
      " [test] ep 20, step 8581, accu 0.96094 [elapsed 0.01475]\n"
     ]
    }
   ],
   "source": [
    "train(sess, model2, 20, train_writer2, test_writer2)"
   ]
  },
  {
   "cell_type": "code",
   "execution_count": 14,
   "metadata": {
    "ExecuteTime": {
     "end_time": "2017-12-12T13:34:29.412212Z",
     "start_time": "2017-12-12T13:34:28.385547Z"
    },
    "scrolled": true
   },
   "outputs": [
    {
     "name": "stdout",
     "output_type": "stream",
     "text": [
      "\u001b[31mE1213 12:01:45.767539 MainThread program.py:255] TensorBoard attempted to bind to port 6006, but it was already in use\r\n",
      "\u001b[0mTensorBoard attempted to bind to port 6006, but it was already in use\r\n"
     ]
    }
   ],
   "source": [
    "!tensorboard --logdir logdir"
   ]
  }
 ],
 "metadata": {
  "kernelspec": {
   "display_name": "Python 2",
   "language": "python",
   "name": "python2"
  },
  "language_info": {
   "codemirror_mode": {
    "name": "ipython",
    "version": 2
   },
   "file_extension": ".py",
   "mimetype": "text/x-python",
   "name": "python",
   "nbconvert_exporter": "python",
   "pygments_lexer": "ipython2",
   "version": "2.7.13"
  }
 },
 "nbformat": 4,
 "nbformat_minor": 2
}
